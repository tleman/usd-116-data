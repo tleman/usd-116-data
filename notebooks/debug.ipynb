{
 "cells": [
  {
   "cell_type": "code",
   "execution_count": 1,
   "id": "c9d15f90",
   "metadata": {},
   "outputs": [],
   "source": [
    "import re, csv\n",
    "import PyPDF2\n",
    "#import openpyxl"
   ]
  },
  {
   "cell_type": "code",
   "execution_count": 8,
   "id": "9bd5be1b",
   "metadata": {},
   "outputs": [],
   "source": [
    "# PDF's may be given with different numbers of budget (dollar) columns\n",
    "N_BUDGET_COLS = 5\n",
    "# 5 account number columns + 1 account description + N budget columns\n",
    "MAX_BUDGET_ENTRY_COLS = 5 + 1 + N_BUDGET_COLS"
   ]
  },
  {
   "cell_type": "code",
   "execution_count": 2,
   "id": "b682a86a",
   "metadata": {},
   "outputs": [],
   "source": [
    "pdf_path = 'data/FY23-Tentative-Budget-Expenditures-resave.pdf'"
   ]
  },
  {
   "cell_type": "code",
   "execution_count": 3,
   "id": "b42654ba",
   "metadata": {},
   "outputs": [
    {
     "name": "stderr",
     "output_type": "stream",
     "text": [
      "Xref table not zero-indexed. ID numbers for objects will be corrected.\n"
     ]
    }
   ],
   "source": [
    "# read pdf file into list\n",
    "raw_pages = []\n",
    "with open(pdf_path, 'rb') as f:\n",
    "    pdf = PyPDF2.PdfFileReader(f)\n",
    "    for page in pdf.pages:\n",
    "        raw_pages.append(page.extract_text())\n",
    "    n_pages =  pdf.getNumPages()\n"
   ]
  },
  {
   "cell_type": "code",
   "execution_count": 4,
   "id": "4cb73ebe",
   "metadata": {},
   "outputs": [],
   "source": [
    "for page in pdf.pages[0:2]:\n",
    "    page"
   ]
  },
  {
   "cell_type": "code",
   "execution_count": 5,
   "id": "165e9382",
   "metadata": {},
   "outputs": [
    {
     "data": {
      "text/plain": [
       "122"
      ]
     },
     "execution_count": 5,
     "metadata": {},
     "output_type": "execute_result"
    }
   ],
   "source": [
    "n_pages"
   ]
  },
  {
   "cell_type": "code",
   "execution_count": 6,
   "id": "96a6b337",
   "metadata": {},
   "outputs": [],
   "source": [
    "clean_lines = []\n",
    "for i, page in enumerate(raw_pages):\n",
    "    this_page = page.splitlines(keepends=True)\n",
    "    for line in this_page:\n",
    "        clean_line = line.replace('\\xa0', ' ')\n",
    "        clean_line = clean_line.strip()\n",
    "        clean_lines.append(clean_line)"
   ]
  },
  {
   "cell_type": "code",
   "execution_count": 7,
   "id": "8c5f67e9",
   "metadata": {},
   "outputs": [
    {
     "data": {
      "text/plain": [
       "['3frbud12.p 76-4 Urbana, IL 06/15/22 Page:1',\n",
       " '05.22.02.00.00 TENTATIVE BUDGET-EXPENSES  (Date: 6/2022)  9:52 AM',\n",
       " 'Account Level 2022-23 2021-22 2021-22 2020-21 2020-21',\n",
       " 'FDTLOC FUNC OBJ  SJ',\n",
       " 'Description                           TENTATIVE   Original Budget     FYTD Activity   Original Budget     FYTD Activity',\n",
       " '10',\n",
       " 'EDUCATION',\n",
       " '000000',\n",
       " 'UNRESTRICTED',\n",
       " '10E000 0000 0000 00 000000',\n",
       " 'SUMMARY ACCOUNT OFFSET',\n",
       " '',\n",
       " '',\n",
       " '-40.00',\n",
       " '',\n",
       " '4.34',\n",
       " '10E000 0000 1230 00 000000',\n",
       " '',\n",
       " '',\n",
       " '245.00',\n",
       " '',\n",
       " '754.50',\n",
       " '10E000 0000 1270 00 000000',\n",
       " '',\n",
       " '',\n",
       " '220.00',\n",
       " '',\n",
       " '',\n",
       " '10E000 0000 2160 00 000000',\n",
       " '']"
      ]
     },
     "execution_count": 7,
     "metadata": {},
     "output_type": "execute_result"
    }
   ],
   "source": [
    "clean_lines[0:30]"
   ]
  },
  {
   "cell_type": "code",
   "execution_count": 9,
   "id": "a9f37681",
   "metadata": {},
   "outputs": [],
   "source": [
    "# first line of new page = any chars + Urbana,IL + date + Page:# + end of line\n",
    "new_page_pattern = '.*Urbana, IL \\d\\d/\\d\\d/\\d\\d Page:\\d{1,3}$'\n",
    "# budget line item = ##E### ####\n",
    "budget_entry_pattern = '^\\d{2}E\\d{3} \\d{4}'\n",
    "# subtotal line item = ## ---\n",
    "subtotal_line_pattern = '^\\d{2} ---'"
   ]
  },
  {
   "cell_type": "code",
   "execution_count": 10,
   "id": "bca23738",
   "metadata": {},
   "outputs": [],
   "source": [
    "# save to these output variables\n",
    "output_lines = []\n",
    "funds = {}\n",
    "accounts = {}"
   ]
  },
  {
   "cell_type": "code",
   "execution_count": 23,
   "id": "1909e089",
   "metadata": {
    "scrolled": false
   },
   "outputs": [
    {
     "name": "stdout",
     "output_type": "stream",
     "text": [
      "HEADER: Account Level 2022-23 2021-22 2021-22 2020-21 2020-21\n",
      "HEADER: FDTLOC FUNC OBJ  SJ\n",
      "HEADER: Description                           TENTATIVE   Original Budget     FYTD Activity   Original Budget     FYTD Activity\n",
      "FUND number:10 name:EDUCATION\n",
      "ACCOUNT number:100000 name:DRIVERS EDUCATION\n",
      "SKIPPING: DRIVERS EDUCATION\n",
      "EMPL 2.2\n",
      "4514 ENTRY: ['10E000', '1700', '2170', '28', '103370', 'EMPL 2.2', '750', '750.00', '150.31', '750.00', '146.92']\n",
      "LIFE INSURANCE\n",
      "4521 ENTRY: ['10E000', '1700', '2210', '28', '103370', 'LIFE INSURANCE', '30', '30.00', '3.45', '30.00', '3.68']\n",
      "HEALTH INSURANCE\n",
      "4528 ENTRY: ['10E000', '1700', '2220', '28', '103370', 'HEALTH INSURANCE', '6060', '6060.00', '2323.00', '4000.00', '2500.00']\n",
      "DR TRAIN & OPERATING SUPL HS\n",
      "4535 ENTRY: ['10E000', '1700', '4110', '28', '103370', 'DR TRAIN & OPERATING SUPL HS', '4000', '4000.00', '6688.72', '4000.00', '5859.68']\n",
      "SKIPPING: \n",
      "SKIPPING: \n",
      "SKIPPING: ________________\n",
      "SKIPPING: _________________\n",
      "SKIPPING: _________________\n",
      "SKIPPING: _________________\n",
      "SKIPPING: _________________\n",
      "SUBTOAL: ['10', '---', '----', '----', '10----', 'SUBTOTAL', '77185', '77185.00', '75991.20', '75068.00', '77494.60']\n",
      "SKIPPING: \n",
      "SKIPPING: \n",
      "SKIPPING: ================\n",
      "SKIPPING: =================\n",
      "SKIPPING: =================\n",
      "SKIPPING: =================\n",
      "SKIPPING: =================\n",
      "ACCOUNT number:110000 name:EARLY CHILDHOOD\n",
      "SKIPPING: EARLY CHILDHOOD\n",
      "PRESCHL PRINC\n",
      "4564 ENTRY: ['10E006', '2332', '1111', '00', '110000', 'PRESCHL PRINC', '21840', '21840.00', '19344.00', '21000.00', '21000.00']\n",
      "343\n",
      "4570 ENTRY: ['10E006', '2332', '2160', '00', '110000', 'BLANK', '343', '343.00', '303.37', '454.00', '453.16']\n",
      "127\n",
      "4576 ENTRY: ['10E006', '2332', '2170', '00', '110000', 'BLANK', '127', '127.00', '112.03', '122.00', '121.91']\n",
      "3\n",
      "4582 ENTRY: ['10E006', '2332', '2210', '00', '110000', 'BLANK', '3', '3.00', '1.47', '3.00', '1.78']\n",
      "1,200\n",
      "4588 ENTRY: ['10E006', '2332', '2220', '00', '110000', 'BLANK', '1200', '1200.00', '1060.50', '', '1232.40']\n",
      "SKIPPING: \n",
      "SKIPPING: \n",
      "SKIPPING: ________________\n",
      "SKIPPING: _________________\n",
      "SKIPPING: _________________\n",
      "SKIPPING: _________________\n",
      "SKIPPING: _________________\n",
      "SUBTOAL: ['10', '---', '----', '----', '11----', 'SUBTOTAL', '23513', '23513.00', '20821.37', '21579.00', '22809.25']\n",
      "SKIPPING: \n",
      "SKIPPING: \n",
      "SKIPPING: ================\n",
      "SKIPPING: =================\n",
      "SKIPPING: =================\n",
      "SKIPPING: =================\n",
      "SKIPPING: =================\n",
      "ACCOUNT number:120000 name:SPED-ELEMENTARY\n",
      "SKIPPING: SPED-ELEMENTARY\n",
      "HOMEBOUND ELEMENTARY SERVICE\n",
      "4617 ENTRY: ['10E000', '1110', '1210', '22', '120000', 'HOMEBOUND ELEMENTARY SERVICE', '20000', '20000.00', '23483.75', '2000.00', '288.75']\n",
      "HOMEBOUND WASHINGTON EC\n",
      "4624 ENTRY: ['10E006', '1110', '1210', '00', '120000', 'HOMEBOUND WASHINGTON EC', '4000', '4000.00', '', '500.00', '']\n",
      "HOME BOUND SHARE THIS\n",
      "4631 ENTRY: ['10E000', '1110', '2160', '22', '120000', 'HOME BOUND SHARE THIS', '43', '43.00', '368.34', '43.00', '6.24']\n",
      "BD SHARE THIS\n",
      "4638 ENTRY: ['10E006', '1110', '2160', '00', '120000', 'BD SHARE THIS', '10', '10.00', '', '10.00', '']\n",
      "HOMEBOUND EMPL 2.2\n",
      "4645 ENTRY: ['10E000', '1110', '2170', '22', '120000', 'HOMEBOUND EMPL 2.2', '14', '14.00', '136.06', '12.00', '1.67']\n",
      "BD SHARE EMPL 2.2\n",
      "4652 ENTRY: ['10E006', '1110', '2170', '00', '120000', 'BD SHARE EMPL 2.2', '6', '6.00', '', '6.00', '']\n",
      "HOMEBOUND - CONTRACTUAL SERVIC\n",
      "4659 ENTRY: ['10E000', '1110', '3100', '22', '120000', 'HOMEBOUND - CONTRACTUAL SERVIC', '3000', '3000.00', '', '3000.00', '148.00']\n",
      "LIFE SKILLS CONTR ADAPT EQUIP\n",
      "4666 ENTRY: ['10E000', '1201', '3110', '22', '120000', 'LIFE SKILLS CONTR ADAPT EQUIP', '200', '200.00', '', '900.00', '']\n",
      "LIFE SKILLS TRAVEL/CONFERENCES\n",
      "4673 ENTRY: ['10E000', '1201', '3330', '22', '120000', 'LIFE SKILLS TRAVEL/CONFERENCES', '600', '600.00', '', '600.00', '']\n",
      "LIFE SKILLS MATL & SUPPLIES\n",
      "4680 ENTRY: ['10E000', '1201', '4120', '22', '120000', 'LIFE SKILLS MATL & SUPPLIES', '10500', '10500.00', '6715.26', '10500.00', '5525.00']\n",
      "LIFE SKILLS ADAPT/SPEC EQUIP\n",
      "4687 ENTRY: ['10E000', '1201', '4130', '22', '120000', 'LIFE SKILLS ADAPT/SPEC EQUIP', '1500', '1500.00', '901.25', '1000.00', '79.98']\n",
      "LIFE SKILLS CAPITAL OUTLAY\n",
      "4694 ENTRY: ['10E000', '1201', '5000', '22', '120000', 'LIFE SKILLS CAPITAL OUTLAY', '3000', '3000.00', '', '', '2900.00']\n",
      "LIFE SKILLS CLASSROOM EQUIP\n",
      "4701 ENTRY: ['10E000', '1201', '5100', '22', '120000', 'LIFE SKILLS CLASSROOM EQUIP', '6000', '6000.00', '', '6000.00', '4463.69']\n"
     ]
    }
   ],
   "source": [
    "# iterate over all extracted lines of the pdf\n",
    "i = 4500\n",
    "i2 = 4700 #len(clean_lines)\n",
    "while i < i2:\n",
    "    current_line = clean_lines[i]\n",
    "    if re.match(new_page_pattern, current_line):\n",
    "        i += 1\n",
    "        print(f'HEADER: {current_line}')\n",
    "    # line 2 of header = start of string + 10 digits separated by decimals\n",
    "    elif re.match('^\\d\\d\\.\\d\\d\\.\\d\\d\\.\\d\\d\\.\\d\\d', current_line):\n",
    "        i += 1\n",
    "        print(f'HEADER: {current_line}')\n",
    "    # line 3 of header = begins with \"Account Level\"\n",
    "    elif re.match('^Account Level', current_line):\n",
    "        i += 1\n",
    "        print(f'HEADER: {current_line}')\n",
    "    # line 4 of header = begins with \"FDTLOC\"\n",
    "    elif re.match('^FDTLOC', current_line):\n",
    "        i += 1\n",
    "        print(f'HEADER: {current_line}')\n",
    "    # line 5 of header = begins with \"Description\"\n",
    "    elif re.match('^Description', current_line):\n",
    "        i += 1\n",
    "        print(f'HEADER: {current_line}')\n",
    "    # fund number = start of string + two digit number + end of string\n",
    "    elif re.match('^\\d{2}$', current_line):\n",
    "        # this line is the fund number, next line is the fund name\n",
    "        funds[current_line] = clean_lines[i+1]\n",
    "        i += 2\n",
    "        print(f'FUND number:{current_line} name:{funds[current_line]}')\n",
    "    # account number = start of string + six digit number + end of string\n",
    "    elif re.match('^\\d{6}$', current_line):\n",
    "        # edge case where the account does not have a corresponding description\n",
    "        # and the next line is a budget entry\n",
    "        if re.match(budget_entry_pattern, clean_lines[i+1]):\n",
    "            accounts[current_line] = 'BLANK'\n",
    "        # this line is the account number, next line is the account name            \n",
    "        else:\n",
    "            accounts[current_line] = clean_lines[i+1]\n",
    "        i += 1\n",
    "        print(f'ACCOUNT number:{current_line} name:{accounts[current_line]}')\n",
    "    # budget line item = ##E### ####\n",
    "    elif re.match(budget_entry_pattern, current_line):\n",
    "        # account numbers\n",
    "        budget_line = current_line.split()\n",
    "        # if the next line is empty or numeric, the account description is blank in the PDF\n",
    "        if clean_lines[i+1]:\n",
    "            try:\n",
    "                float(clean_lines[i+1].replace(',',''))\n",
    "                budget_line.append('BLANK')\n",
    "            except ValueError:\n",
    "                pass\n",
    "        else:\n",
    "            budget_line.append('BLANK')\n",
    "        print(clean_lines[i+1])\n",
    "        # continue adding budget line entries until we reach either\n",
    "        #    1) the next budget line item\n",
    "        #    2) the next page\n",
    "        #    3) the maximum number of columns (helps with edge cases with subtotals)\n",
    "        while not (re.match(budget_entry_pattern, clean_lines[i+1]) or \n",
    "                   re.match(new_page_pattern, clean_lines[i+1])):\n",
    "            i += 1\n",
    "            budget_line.append(clean_lines[i].replace(',',''))\n",
    "            if len(budget_line) == MAX_BUDGET_ENTRY_COLS:\n",
    "                break\n",
    "        i += 1\n",
    "        print(i, 'ENTRY:', budget_line)\n",
    "        output_lines.append(budget_line)\n",
    "    # subtotal = ## --- ---- ----\n",
    "    elif re.match(subtotal_line_pattern, current_line):\n",
    "        subtotal_line = current_line.split()\n",
    "        subtotal_line.append('SUBTOTAL')\n",
    "        # continue adding budget line entries until we reach the maximum number of columns\n",
    "        while True:\n",
    "            i += 1\n",
    "            subtotal_line.append(clean_lines[i].replace(',',''))\n",
    "            if len(subtotal_line) == MAX_BUDGET_ENTRY_COLS:\n",
    "                break\n",
    "\n",
    "        i += 1\n",
    "        print('SUBTOAL:', subtotal_line)\n",
    "        output_lines.append(subtotal_line)\n",
    "    else:\n",
    "        i += 1\n",
    "        print(f'SKIPPING: {current_line}')"
   ]
  }
 ],
 "metadata": {
  "kernelspec": {
   "display_name": "Python 3 (ipykernel)",
   "language": "python",
   "name": "python3"
  },
  "language_info": {
   "codemirror_mode": {
    "name": "ipython",
    "version": 3
   },
   "file_extension": ".py",
   "mimetype": "text/x-python",
   "name": "python",
   "nbconvert_exporter": "python",
   "pygments_lexer": "ipython3",
   "version": "3.8.13"
  }
 },
 "nbformat": 4,
 "nbformat_minor": 5
}
